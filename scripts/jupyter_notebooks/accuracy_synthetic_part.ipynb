{
 "cells": [
  {
   "cell_type": "code",
   "execution_count": 8,
   "source": [
    "import numpy as np\n",
    "import regex as re\n",
    "import os\n",
    "import math\n",
    "import pandas as pd \n",
    "import sys\n",
    "from openpyxl import load_workbook, Workbook\n",
    "from openpyxl.utils.cell import get_column_letter\n",
    "\n",
    "path_src = \"/local/scratch/Figaro/figaro-code\"\n",
    "exp_names = [\"mkl\", \"figaro_thick\"]\n",
    "exp_paths = {\"figaro_thick\": \"dumps/figaro_thick\", \"mkl\": \"dumps/python/numpy\"}\n",
    "csv_name = \"R.csv\"\n",
    "\n",
    "row_nums = [512]\n",
    "column_nums =[2]\n",
    "row_nums = [512, 1024, 2048, 4096]\n",
    "column_nums = [1, 4, 16, 64, 256, 1024, 4096]\n",
    "row_col_nums = []\n",
    "np.set_printoptions(threshold=sys.maxsize, precision=14)\n",
    "join_order = \"FullJoin\"\n",
    "\n",
    "for row_num in row_nums:\n",
    "    for col_num in column_nums:\n",
    "        if (row_num > col_num):\n",
    "            row_col_nums.append((row_num, col_num))\n",
    "\n",
    "row_col_nums = row_col_nums[:8]\n",
    "\n",
    "def arrange_up_triang(n: int):\n",
    "    A  = np.zeros( (n, n))\n",
    "    idx = 1\n",
    "    for row_idx in range(n):\n",
    "        for col_idx in range(row_idx, n):\n",
    "            A[row_idx, col_idx] = idx\n",
    "            idx += 1\n",
    "    return A\n",
    "\n",
    "\n",
    "def compare_rs(R: np.array, num_rows: int, num_cols: int):\n",
    "    R_expX = arrange_up_triang(num_cols) * math.sqrt(num_rows)\n",
    "    diff = R[:num_cols, :num_cols] - R_expX\n",
    "    #print(R[:num_cols, :num_cols])\n",
    "    #print(R_expX)\n",
    "    #print(diff)\n",
    "    rel_fro = np.linalg.norm(diff, ord='fro') / np.linalg.norm(R_expX, ord='fro')\n",
    "    return rel_fro\n",
    "\n",
    "exp_rel_errors = {}\n",
    "\n",
    "for exp_name in exp_names:\n",
    "    #Initialize paths for the current experiment \n",
    "    exp_path = exp_paths[exp_name]\n",
    "    accur_path = os.path.join(path_src, exp_path)\n",
    "    df_measurement = pd.DataFrame(columns=column_nums)\n",
    "    dump_r_path = os.path.join(accur_path, csv_name)\n",
    "\n",
    "\n",
    "    for db_idx, db_num in enumerate(range(1, len(row_col_nums))): \n",
    "        db_name = \"DBCartesianProductAccuracy{}\".format(db_num)\n",
    "        path_csv = os.path.join(accur_path, db_name, join_order, csv_name)\n",
    "        \n",
    "        # Writng header files\n",
    "        row_num = row_col_nums[db_idx][0]\n",
    "        col_num = row_col_nums[db_idx][1]\n",
    "        r_mat = np.genfromtxt(path_csv, delimiter=',')\n",
    "        rel_error = compare_rs(r_mat, row_num, col_num)\n",
    "        df_measurement.at[row_num, col_num] = rel_error\n",
    "    \n",
    "    exp_rel_errors[exp_name] = df_measurement\n",
    "    df_measurement.to_csv(exp_name+\"comp.csv\")\n",
    "print(exp_rel_errors)"
   ],
   "outputs": [
    {
     "output_type": "error",
     "ename": "OSError",
     "evalue": "/local/scratch/Figaro/figaro-code/dumps/figaro-thick/DBCartesianProductAccuracy1/FullJoin/R.csv not found.",
     "traceback": [
      "\u001b[0;31m---------------------------------------------------------------------------\u001b[0m",
      "\u001b[0;31mOSError\u001b[0m                                   Traceback (most recent call last)",
      "\u001b[0;32m/tmp/ipykernel_7724/2404255544.py\u001b[0m in \u001b[0;36m<module>\u001b[0;34m\u001b[0m\n\u001b[1;32m     64\u001b[0m         \u001b[0mrow_num\u001b[0m \u001b[0;34m=\u001b[0m \u001b[0mrow_col_nums\u001b[0m\u001b[0;34m[\u001b[0m\u001b[0mdb_idx\u001b[0m\u001b[0;34m]\u001b[0m\u001b[0;34m[\u001b[0m\u001b[0;36m0\u001b[0m\u001b[0;34m]\u001b[0m\u001b[0;34m\u001b[0m\u001b[0;34m\u001b[0m\u001b[0m\n\u001b[1;32m     65\u001b[0m         \u001b[0mcol_num\u001b[0m \u001b[0;34m=\u001b[0m \u001b[0mrow_col_nums\u001b[0m\u001b[0;34m[\u001b[0m\u001b[0mdb_idx\u001b[0m\u001b[0;34m]\u001b[0m\u001b[0;34m[\u001b[0m\u001b[0;36m1\u001b[0m\u001b[0;34m]\u001b[0m\u001b[0;34m\u001b[0m\u001b[0;34m\u001b[0m\u001b[0m\n\u001b[0;32m---> 66\u001b[0;31m         \u001b[0mr_mat\u001b[0m \u001b[0;34m=\u001b[0m \u001b[0mnp\u001b[0m\u001b[0;34m.\u001b[0m\u001b[0mgenfromtxt\u001b[0m\u001b[0;34m(\u001b[0m\u001b[0mpath_csv\u001b[0m\u001b[0;34m,\u001b[0m \u001b[0mdelimiter\u001b[0m\u001b[0;34m=\u001b[0m\u001b[0;34m','\u001b[0m\u001b[0;34m)\u001b[0m\u001b[0;34m\u001b[0m\u001b[0;34m\u001b[0m\u001b[0m\n\u001b[0m\u001b[1;32m     67\u001b[0m         \u001b[0mrel_error\u001b[0m \u001b[0;34m=\u001b[0m \u001b[0mcompare_rs\u001b[0m\u001b[0;34m(\u001b[0m\u001b[0mr_mat\u001b[0m\u001b[0;34m,\u001b[0m \u001b[0mrow_num\u001b[0m\u001b[0;34m,\u001b[0m \u001b[0mcol_num\u001b[0m\u001b[0;34m)\u001b[0m\u001b[0;34m\u001b[0m\u001b[0;34m\u001b[0m\u001b[0m\n\u001b[1;32m     68\u001b[0m         \u001b[0mdf_measurement\u001b[0m\u001b[0;34m.\u001b[0m\u001b[0mat\u001b[0m\u001b[0;34m[\u001b[0m\u001b[0mrow_num\u001b[0m\u001b[0;34m,\u001b[0m \u001b[0mcol_num\u001b[0m\u001b[0;34m]\u001b[0m \u001b[0;34m=\u001b[0m \u001b[0mrel_error\u001b[0m\u001b[0;34m\u001b[0m\u001b[0;34m\u001b[0m\u001b[0m\n",
      "\u001b[0;32m/local/scratch/Figaro/figaro-code/scripts/run-env/lib/python3.7/site-packages/numpy/lib/npyio.py\u001b[0m in \u001b[0;36mgenfromtxt\u001b[0;34m(fname, dtype, comments, delimiter, skip_header, skip_footer, converters, missing_values, filling_values, usecols, names, excludelist, deletechars, replace_space, autostrip, case_sensitive, defaultfmt, unpack, usemask, loose, invalid_raise, max_rows, encoding)\u001b[0m\n\u001b[1;32m   1747\u001b[0m             \u001b[0mfname\u001b[0m \u001b[0;34m=\u001b[0m \u001b[0mos_fspath\u001b[0m\u001b[0;34m(\u001b[0m\u001b[0mfname\u001b[0m\u001b[0;34m)\u001b[0m\u001b[0;34m\u001b[0m\u001b[0;34m\u001b[0m\u001b[0m\n\u001b[1;32m   1748\u001b[0m         \u001b[0;32mif\u001b[0m \u001b[0misinstance\u001b[0m\u001b[0;34m(\u001b[0m\u001b[0mfname\u001b[0m\u001b[0;34m,\u001b[0m \u001b[0mstr\u001b[0m\u001b[0;34m)\u001b[0m\u001b[0;34m:\u001b[0m\u001b[0;34m\u001b[0m\u001b[0;34m\u001b[0m\u001b[0m\n\u001b[0;32m-> 1749\u001b[0;31m             \u001b[0mfid\u001b[0m \u001b[0;34m=\u001b[0m \u001b[0mnp\u001b[0m\u001b[0;34m.\u001b[0m\u001b[0mlib\u001b[0m\u001b[0;34m.\u001b[0m\u001b[0m_datasource\u001b[0m\u001b[0;34m.\u001b[0m\u001b[0mopen\u001b[0m\u001b[0;34m(\u001b[0m\u001b[0mfname\u001b[0m\u001b[0;34m,\u001b[0m \u001b[0;34m'rt'\u001b[0m\u001b[0;34m,\u001b[0m \u001b[0mencoding\u001b[0m\u001b[0;34m=\u001b[0m\u001b[0mencoding\u001b[0m\u001b[0;34m)\u001b[0m\u001b[0;34m\u001b[0m\u001b[0;34m\u001b[0m\u001b[0m\n\u001b[0m\u001b[1;32m   1750\u001b[0m             \u001b[0mfid_ctx\u001b[0m \u001b[0;34m=\u001b[0m \u001b[0mcontextlib\u001b[0m\u001b[0;34m.\u001b[0m\u001b[0mclosing\u001b[0m\u001b[0;34m(\u001b[0m\u001b[0mfid\u001b[0m\u001b[0;34m)\u001b[0m\u001b[0;34m\u001b[0m\u001b[0;34m\u001b[0m\u001b[0m\n\u001b[1;32m   1751\u001b[0m         \u001b[0;32melse\u001b[0m\u001b[0;34m:\u001b[0m\u001b[0;34m\u001b[0m\u001b[0;34m\u001b[0m\u001b[0m\n",
      "\u001b[0;32m/local/scratch/Figaro/figaro-code/scripts/run-env/lib/python3.7/site-packages/numpy/lib/_datasource.py\u001b[0m in \u001b[0;36mopen\u001b[0;34m(path, mode, destpath, encoding, newline)\u001b[0m\n\u001b[1;32m    193\u001b[0m \u001b[0;34m\u001b[0m\u001b[0m\n\u001b[1;32m    194\u001b[0m     \u001b[0mds\u001b[0m \u001b[0;34m=\u001b[0m \u001b[0mDataSource\u001b[0m\u001b[0;34m(\u001b[0m\u001b[0mdestpath\u001b[0m\u001b[0;34m)\u001b[0m\u001b[0;34m\u001b[0m\u001b[0;34m\u001b[0m\u001b[0m\n\u001b[0;32m--> 195\u001b[0;31m     \u001b[0;32mreturn\u001b[0m \u001b[0mds\u001b[0m\u001b[0;34m.\u001b[0m\u001b[0mopen\u001b[0m\u001b[0;34m(\u001b[0m\u001b[0mpath\u001b[0m\u001b[0;34m,\u001b[0m \u001b[0mmode\u001b[0m\u001b[0;34m,\u001b[0m \u001b[0mencoding\u001b[0m\u001b[0;34m=\u001b[0m\u001b[0mencoding\u001b[0m\u001b[0;34m,\u001b[0m \u001b[0mnewline\u001b[0m\u001b[0;34m=\u001b[0m\u001b[0mnewline\u001b[0m\u001b[0;34m)\u001b[0m\u001b[0;34m\u001b[0m\u001b[0;34m\u001b[0m\u001b[0m\n\u001b[0m\u001b[1;32m    196\u001b[0m \u001b[0;34m\u001b[0m\u001b[0m\n\u001b[1;32m    197\u001b[0m \u001b[0;34m\u001b[0m\u001b[0m\n",
      "\u001b[0;32m/local/scratch/Figaro/figaro-code/scripts/run-env/lib/python3.7/site-packages/numpy/lib/_datasource.py\u001b[0m in \u001b[0;36mopen\u001b[0;34m(self, path, mode, encoding, newline)\u001b[0m\n\u001b[1;32m    533\u001b[0m                                       encoding=encoding, newline=newline)\n\u001b[1;32m    534\u001b[0m         \u001b[0;32melse\u001b[0m\u001b[0;34m:\u001b[0m\u001b[0;34m\u001b[0m\u001b[0;34m\u001b[0m\u001b[0m\n\u001b[0;32m--> 535\u001b[0;31m             \u001b[0;32mraise\u001b[0m \u001b[0mIOError\u001b[0m\u001b[0;34m(\u001b[0m\u001b[0;34m\"%s not found.\"\u001b[0m \u001b[0;34m%\u001b[0m \u001b[0mpath\u001b[0m\u001b[0;34m)\u001b[0m\u001b[0;34m\u001b[0m\u001b[0;34m\u001b[0m\u001b[0m\n\u001b[0m\u001b[1;32m    536\u001b[0m \u001b[0;34m\u001b[0m\u001b[0m\n\u001b[1;32m    537\u001b[0m \u001b[0;34m\u001b[0m\u001b[0m\n",
      "\u001b[0;31mOSError\u001b[0m: /local/scratch/Figaro/figaro-code/dumps/figaro-thick/DBCartesianProductAccuracy1/FullJoin/R.csv not found."
     ]
    }
   ],
   "metadata": {}
  }
 ],
 "metadata": {
  "orig_nbformat": 4,
  "language_info": {
   "name": "python",
   "version": "3.7.3",
   "mimetype": "text/x-python",
   "codemirror_mode": {
    "name": "ipython",
    "version": 3
   },
   "pygments_lexer": "ipython3",
   "nbconvert_exporter": "python",
   "file_extension": ".py"
  },
  "kernelspec": {
   "name": "python3",
   "display_name": "Python 3.7.3 64-bit ('run-env': venv)"
  },
  "interpreter": {
   "hash": "585260e7b12288f98bc42d33769bd123176da17d01a72b096c2cb73d77e007cc"
  }
 },
 "nbformat": 4,
 "nbformat_minor": 2
}