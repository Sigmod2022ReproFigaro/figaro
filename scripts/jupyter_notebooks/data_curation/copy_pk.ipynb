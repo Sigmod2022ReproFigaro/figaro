{
 "cells": [
  {
   "cell_type": "code",
   "execution_count": 7,
   "source": [
    "import os \n",
    "import pandas as pd\n",
    "import numpy as np\n",
    "import shutil\n",
    "\n",
    "db_original_path = \"/local/scratch/Figaro/data/retailer\"\n",
    "db_pk_path = \"/local/scratch/Figaro/data/retailer_pk\"\n",
    "\n",
    "shutil.copytree(db_original_path, db_pk_path)\n",
    "\n",
    "percents = np.linspace(0.001, 0.01, num=10)\n",
    "\n",
    "db_paths = [ os.path.join(db_pk_path, str(round(per, 3))) for per in percents] + [db_pk_path]\n",
    "print(db_paths)\n",
    "\n",
    "for db_path in db_paths:\n",
    "    for file_name in os.listdir(db_path):\n",
    "        if file_name.startswith(\"Inventory\"):\n",
    "            full_path = os.path.join(db_path, file_name)\n",
    "            print(file_name)\n",
    "            print(full_path)\n",
    "            t = pd.read_csv(full_path, header=None)\n",
    "            print(\"Number of rows {}\".format(t.shape[0]))\n",
    "            t.columns = [\"Locn\", \"DateId\", \"Ksn\", \"InventoryUnits\"]\n",
    "            t[\"LocnC\"] = t[\"Locn\"]\n",
    "            t[\"DateIdC\"] = t[\"DateId\"]\n",
    "            t[\"KsnC\"] = t[\"Ksn\"]\n",
    "            t.to_csv(full_path, index=False, header=None)\n",
    "        \n",
    "        if file_name.startswith(\"Census\"):\n",
    "            full_path = os.path.join(db_path, file_name)\n",
    "            print(file_name)\n",
    "            print(full_path)\n",
    "            t = pd.read_csv(full_path, header=None)\n",
    "            t.columns = [\"Zip\", \"Population\", \"White\", \"Asian\", \"Pacific\", \"Black\", \"MedianAge\", \"OccupiedHouseUnits\", \"HouseUnits\", \"Families\", \"Households\", \"HusbWife\", \"Males\", \"Females\", \"HouseholdChildren\", \"Hispanic\"]\n",
    "            t[\"ZipC\"] = t[\"Zip\"]\n",
    "            t.to_csv(full_path, index=False, header=None)"
   ],
   "outputs": [
    {
     "output_type": "stream",
     "name": "stdout",
     "text": [
      "['/local/scratch/Figaro/data/retailer_pk/0.001', '/local/scratch/Figaro/data/retailer_pk/0.002', '/local/scratch/Figaro/data/retailer_pk/0.003', '/local/scratch/Figaro/data/retailer_pk/0.004', '/local/scratch/Figaro/data/retailer_pk/0.005', '/local/scratch/Figaro/data/retailer_pk/0.006', '/local/scratch/Figaro/data/retailer_pk/0.007', '/local/scratch/Figaro/data/retailer_pk/0.008', '/local/scratch/Figaro/data/retailer_pk/0.009', '/local/scratch/Figaro/data/retailer_pk/0.01', '/local/scratch/Figaro/data/retailer_pk']\n"
     ]
    },
    {
     "output_type": "error",
     "ename": "FileNotFoundError",
     "evalue": "[Errno 2] No such file or directory: '/local/scratch/Figaro/data/retailer_pk/0.001'",
     "traceback": [
      "\u001b[0;31m---------------------------------------------------------------------------\u001b[0m",
      "\u001b[0;31mFileNotFoundError\u001b[0m                         Traceback (most recent call last)",
      "\u001b[0;32m/tmp/ipykernel_33798/3927446670.py\u001b[0m in \u001b[0;36m<module>\u001b[0;34m\u001b[0m\n\u001b[1;32m     15\u001b[0m \u001b[0;34m\u001b[0m\u001b[0m\n\u001b[1;32m     16\u001b[0m \u001b[0;32mfor\u001b[0m \u001b[0mdb_path\u001b[0m \u001b[0;32min\u001b[0m \u001b[0mdb_paths\u001b[0m\u001b[0;34m:\u001b[0m\u001b[0;34m\u001b[0m\u001b[0;34m\u001b[0m\u001b[0m\n\u001b[0;32m---> 17\u001b[0;31m     \u001b[0;32mfor\u001b[0m \u001b[0mfile_name\u001b[0m \u001b[0;32min\u001b[0m \u001b[0mos\u001b[0m\u001b[0;34m.\u001b[0m\u001b[0mlistdir\u001b[0m\u001b[0;34m(\u001b[0m\u001b[0mdb_path\u001b[0m\u001b[0;34m)\u001b[0m\u001b[0;34m:\u001b[0m\u001b[0;34m\u001b[0m\u001b[0;34m\u001b[0m\u001b[0m\n\u001b[0m\u001b[1;32m     18\u001b[0m         \u001b[0;32mif\u001b[0m \u001b[0mfile_name\u001b[0m\u001b[0;34m.\u001b[0m\u001b[0mstartswith\u001b[0m\u001b[0;34m(\u001b[0m\u001b[0;34m\"Inventory\"\u001b[0m\u001b[0;34m)\u001b[0m\u001b[0;34m:\u001b[0m\u001b[0;34m\u001b[0m\u001b[0;34m\u001b[0m\u001b[0m\n\u001b[1;32m     19\u001b[0m             \u001b[0mfull_path\u001b[0m \u001b[0;34m=\u001b[0m \u001b[0mos\u001b[0m\u001b[0;34m.\u001b[0m\u001b[0mpath\u001b[0m\u001b[0;34m.\u001b[0m\u001b[0mjoin\u001b[0m\u001b[0;34m(\u001b[0m\u001b[0mdb_path\u001b[0m\u001b[0;34m,\u001b[0m \u001b[0mfile_name\u001b[0m\u001b[0;34m)\u001b[0m\u001b[0;34m\u001b[0m\u001b[0;34m\u001b[0m\u001b[0m\n",
      "\u001b[0;31mFileNotFoundError\u001b[0m: [Errno 2] No such file or directory: '/local/scratch/Figaro/data/retailer_pk/0.001'"
     ]
    }
   ],
   "metadata": {}
  }
 ],
 "metadata": {
  "orig_nbformat": 4,
  "language_info": {
   "name": "python",
   "version": "3.7.3",
   "mimetype": "text/x-python",
   "codemirror_mode": {
    "name": "ipython",
    "version": 3
   },
   "pygments_lexer": "ipython3",
   "nbconvert_exporter": "python",
   "file_extension": ".py"
  },
  "kernelspec": {
   "name": "python3",
   "display_name": "Python 3.7.3 64-bit ('run-env': venv)"
  },
  "interpreter": {
   "hash": "585260e7b12288f98bc42d33769bd123176da17d01a72b096c2cb73d77e007cc"
  }
 },
 "nbformat": 4,
 "nbformat_minor": 2
}