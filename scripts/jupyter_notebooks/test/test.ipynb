{
 "cells": [
  {
   "cell_type": "code",
   "execution_count": 1,
   "source": [
    "from ctypes import CDLL\n",
    "mkl = CDLL('/local/scratch/local/intel/mkl/2021.2.0/lib/intel64/libmkl_rt.so')\n",
    "print(mkl.MKL_Get_Max_Threads())\n",
    "#print(mkl.MKL_Set_Dynamic(1))\n",
    "print(mkl.MKL_Set_Dynamic(0))\n",
    "print(mkl.MKL_Set_Num_Threads(48))\n",
    "print(mkl.MKL_Get_Max_Threads())"
   ],
   "outputs": [
    {
     "output_type": "stream",
     "name": "stdout",
     "text": [
      "24\n",
      "-867443536\n",
      "-867443504\n",
      "48\n"
     ]
    }
   ],
   "metadata": {}
  }
 ],
 "metadata": {
  "orig_nbformat": 4,
  "language_info": {
   "name": "python",
   "version": "3.7.3",
   "mimetype": "text/x-python",
   "codemirror_mode": {
    "name": "ipython",
    "version": 3
   },
   "pygments_lexer": "ipython3",
   "nbconvert_exporter": "python",
   "file_extension": ".py"
  },
  "kernelspec": {
   "name": "python3",
   "display_name": "Python 3.7.3 64-bit ('run-env-mkl': venv)"
  },
  "interpreter": {
   "hash": "cfd9666e9796f15e1fc135ef49f712cb0ce0feb85be3a5f35c690e46d8f2bc8e"
  }
 },
 "nbformat": 4,
 "nbformat_minor": 2
}